{
 "cells": [
  {
   "cell_type": "markdown",
   "metadata": {},
   "source": [
    "# Loan Eligibility Prediction (ANN)"
   ]
  },
  {
   "cell_type": "markdown",
   "metadata": {},
   "source": [
    "# Read Dataset"
   ]
  },
  {
   "cell_type": "code",
   "execution_count": 1,
   "metadata": {},
   "outputs": [],
   "source": [
    "from warnings import filterwarnings\n",
    "filterwarnings(\"ignore\")\n",
    "import pandas as pd\n",
    "A = pd.read_csv(\"C:/Users/Shruti/Downloads/training_set.csv\")"
   ]
  },
  {
   "cell_type": "code",
   "execution_count": 2,
   "metadata": {},
   "outputs": [
    {
     "data": {
      "text/html": [
       "<div>\n",
       "<style scoped>\n",
       "    .dataframe tbody tr th:only-of-type {\n",
       "        vertical-align: middle;\n",
       "    }\n",
       "\n",
       "    .dataframe tbody tr th {\n",
       "        vertical-align: top;\n",
       "    }\n",
       "\n",
       "    .dataframe thead th {\n",
       "        text-align: right;\n",
       "    }\n",
       "</style>\n",
       "<table border=\"1\" class=\"dataframe\">\n",
       "  <thead>\n",
       "    <tr style=\"text-align: right;\">\n",
       "      <th></th>\n",
       "      <th>Loan_ID</th>\n",
       "      <th>Gender</th>\n",
       "      <th>Married</th>\n",
       "      <th>Dependents</th>\n",
       "      <th>Education</th>\n",
       "      <th>Self_Employed</th>\n",
       "      <th>ApplicantIncome</th>\n",
       "      <th>CoapplicantIncome</th>\n",
       "      <th>LoanAmount</th>\n",
       "      <th>Loan_Amount_Term</th>\n",
       "      <th>Credit_History</th>\n",
       "      <th>Property_Area</th>\n",
       "      <th>Loan_Status</th>\n",
       "    </tr>\n",
       "  </thead>\n",
       "  <tbody>\n",
       "    <tr>\n",
       "      <th>0</th>\n",
       "      <td>LP001002</td>\n",
       "      <td>Male</td>\n",
       "      <td>No</td>\n",
       "      <td>0</td>\n",
       "      <td>Graduate</td>\n",
       "      <td>No</td>\n",
       "      <td>5849.0</td>\n",
       "      <td>0.0</td>\n",
       "      <td>NaN</td>\n",
       "      <td>360.0</td>\n",
       "      <td>1.0</td>\n",
       "      <td>Urban</td>\n",
       "      <td>Y</td>\n",
       "    </tr>\n",
       "    <tr>\n",
       "      <th>1</th>\n",
       "      <td>LP001003</td>\n",
       "      <td>Male</td>\n",
       "      <td>Yes</td>\n",
       "      <td>1</td>\n",
       "      <td>Graduate</td>\n",
       "      <td>No</td>\n",
       "      <td>NaN</td>\n",
       "      <td>1508.0</td>\n",
       "      <td>128.0</td>\n",
       "      <td>360.0</td>\n",
       "      <td>1.0</td>\n",
       "      <td>Rural</td>\n",
       "      <td>N</td>\n",
       "    </tr>\n",
       "    <tr>\n",
       "      <th>2</th>\n",
       "      <td>LP001005</td>\n",
       "      <td>Male</td>\n",
       "      <td>Yes</td>\n",
       "      <td>0</td>\n",
       "      <td>Graduate</td>\n",
       "      <td>Yes</td>\n",
       "      <td>3000.0</td>\n",
       "      <td>0.0</td>\n",
       "      <td>66.0</td>\n",
       "      <td>360.0</td>\n",
       "      <td>1.0</td>\n",
       "      <td>Urban</td>\n",
       "      <td>Y</td>\n",
       "    </tr>\n",
       "  </tbody>\n",
       "</table>\n",
       "</div>"
      ],
      "text/plain": [
       "    Loan_ID Gender Married Dependents Education Self_Employed  \\\n",
       "0  LP001002   Male      No          0  Graduate            No   \n",
       "1  LP001003   Male     Yes          1  Graduate            No   \n",
       "2  LP001005   Male     Yes          0  Graduate           Yes   \n",
       "\n",
       "   ApplicantIncome  CoapplicantIncome  LoanAmount  Loan_Amount_Term  \\\n",
       "0           5849.0                0.0         NaN             360.0   \n",
       "1              NaN             1508.0       128.0             360.0   \n",
       "2           3000.0                0.0        66.0             360.0   \n",
       "\n",
       "   Credit_History Property_Area Loan_Status  \n",
       "0             1.0         Urban           Y  \n",
       "1             1.0         Rural           N  \n",
       "2             1.0         Urban           Y  "
      ]
     },
     "execution_count": 2,
     "metadata": {},
     "output_type": "execute_result"
    }
   ],
   "source": [
    "A.head(3)"
   ]
  },
  {
   "cell_type": "markdown",
   "metadata": {},
   "source": [
    "# Missing Data Treatment"
   ]
  },
  {
   "cell_type": "code",
   "execution_count": 3,
   "metadata": {},
   "outputs": [],
   "source": [
    "from PM8 import replacer\n",
    "replacer(A)"
   ]
  },
  {
   "cell_type": "markdown",
   "metadata": {},
   "source": [
    "# Dropping Unwanted Columns"
   ]
  },
  {
   "cell_type": "code",
   "execution_count": 4,
   "metadata": {},
   "outputs": [],
   "source": [
    "B = A.drop(labels=[\"Loan_ID\"],axis=1)"
   ]
  },
  {
   "cell_type": "markdown",
   "metadata": {},
   "source": [
    "# Defining X and Y"
   ]
  },
  {
   "cell_type": "code",
   "execution_count": 5,
   "metadata": {},
   "outputs": [],
   "source": [
    "Y = B[[\"Loan_Status\"]]\n",
    "X = B.drop(labels=[\"Loan_Status\"],axis=1)"
   ]
  },
  {
   "cell_type": "markdown",
   "metadata": {},
   "source": [
    "# Converting Y into a label encoded format"
   ]
  },
  {
   "cell_type": "code",
   "execution_count": 6,
   "metadata": {},
   "outputs": [],
   "source": [
    "from sklearn.preprocessing import LabelEncoder\n",
    "le = LabelEncoder()\n",
    "Ynew = pd.DataFrame(le.fit_transform(Y),columns=[\"Loan_Status\"])"
   ]
  },
  {
   "cell_type": "markdown",
   "metadata": {},
   "source": [
    "# Preprocessing"
   ]
  },
  {
   "cell_type": "code",
   "execution_count": 8,
   "metadata": {},
   "outputs": [],
   "source": [
    "from PM8 import preprocessing\n",
    "Xnew = preprocessing(X)"
   ]
  },
  {
   "cell_type": "markdown",
   "metadata": {},
   "source": [
    "# Divide Data into training and validation set"
   ]
  },
  {
   "cell_type": "code",
   "execution_count": 9,
   "metadata": {},
   "outputs": [],
   "source": [
    "from sklearn.model_selection import train_test_split\n",
    "xtrain,xtest,ytrain,ytest=train_test_split(Xnew,Ynew,test_size=0.2,random_state=21)"
   ]
  },
  {
   "cell_type": "markdown",
   "metadata": {},
   "source": [
    "# Create a  NN"
   ]
  },
  {
   "cell_type": "code",
   "execution_count": 11,
   "metadata": {},
   "outputs": [],
   "source": [
    "from keras.layers import Dense,Dropout\n",
    "from keras.models import Sequential\n",
    "from keras.callbacks import EarlyStopping"
   ]
  },
  {
   "cell_type": "code",
   "execution_count": 12,
   "metadata": {},
   "outputs": [
    {
     "name": "stdout",
     "output_type": "stream",
     "text": [
      "Epoch 1/1000\n",
      "13/13 [==============================] - 1s 22ms/step - loss: 0.5525 - accuracy: 0.7372 - val_loss: 0.5479 - val_accuracy: 0.8182\n",
      "Epoch 2/1000\n",
      "13/13 [==============================] - 0s 6ms/step - loss: 0.4958 - accuracy: 0.7908 - val_loss: 0.5607 - val_accuracy: 0.7980\n",
      "Epoch 3/1000\n",
      "13/13 [==============================] - 0s 8ms/step - loss: 0.4964 - accuracy: 0.7908 - val_loss: 0.4941 - val_accuracy: 0.8182\n",
      "Epoch 4/1000\n",
      "13/13 [==============================] - 0s 10ms/step - loss: 0.4815 - accuracy: 0.8061 - val_loss: 0.5456 - val_accuracy: 0.7980\n",
      "Epoch 5/1000\n",
      "13/13 [==============================] - 0s 5ms/step - loss: 0.4719 - accuracy: 0.7959 - val_loss: 0.5022 - val_accuracy: 0.7879\n",
      "Epoch 6/1000\n",
      "13/13 [==============================] - 0s 4ms/step - loss: 0.4982 - accuracy: 0.7934 - val_loss: 0.5921 - val_accuracy: 0.7374\n",
      "Epoch 7/1000\n",
      "13/13 [==============================] - 0s 5ms/step - loss: 0.4776 - accuracy: 0.8061 - val_loss: 0.5777 - val_accuracy: 0.7677\n",
      "Epoch 8/1000\n",
      "13/13 [==============================] - 0s 6ms/step - loss: 0.4810 - accuracy: 0.7857 - val_loss: 0.5204 - val_accuracy: 0.7980\n",
      "Epoch 9/1000\n",
      "13/13 [==============================] - 0s 8ms/step - loss: 0.4682 - accuracy: 0.8036 - val_loss: 0.4916 - val_accuracy: 0.8182\n",
      "Epoch 10/1000\n",
      "13/13 [==============================] - 0s 9ms/step - loss: 0.4743 - accuracy: 0.8061 - val_loss: 0.5138 - val_accuracy: 0.7980\n",
      "Epoch 11/1000\n",
      "13/13 [==============================] - 0s 9ms/step - loss: 0.4771 - accuracy: 0.7959 - val_loss: 0.5296 - val_accuracy: 0.7879\n",
      "Epoch 12/1000\n",
      "13/13 [==============================] - 0s 9ms/step - loss: 0.4803 - accuracy: 0.7883 - val_loss: 0.5073 - val_accuracy: 0.8081\n",
      "Epoch 13/1000\n",
      "13/13 [==============================] - 0s 9ms/step - loss: 0.4639 - accuracy: 0.8087 - val_loss: 0.5780 - val_accuracy: 0.7677\n",
      "Epoch 14/1000\n",
      "13/13 [==============================] - 0s 9ms/step - loss: 0.4836 - accuracy: 0.7959 - val_loss: 0.5278 - val_accuracy: 0.8182\n",
      "Epoch 15/1000\n",
      "13/13 [==============================] - 0s 9ms/step - loss: 0.4731 - accuracy: 0.8036 - val_loss: 0.5288 - val_accuracy: 0.7778\n",
      "Epoch 16/1000\n",
      "13/13 [==============================] - 0s 9ms/step - loss: 0.4657 - accuracy: 0.8087 - val_loss: 0.5018 - val_accuracy: 0.7980\n",
      "Epoch 17/1000\n",
      "13/13 [==============================] - 0s 9ms/step - loss: 0.4825 - accuracy: 0.7959 - val_loss: 0.5151 - val_accuracy: 0.8081\n",
      "Epoch 18/1000\n",
      "13/13 [==============================] - 0s 9ms/step - loss: 0.4705 - accuracy: 0.8061 - val_loss: 0.5395 - val_accuracy: 0.8081\n",
      "Epoch 19/1000\n",
      "13/13 [==============================] - 0s 9ms/step - loss: 0.4679 - accuracy: 0.8010 - val_loss: 0.5222 - val_accuracy: 0.8081\n",
      "Epoch 20/1000\n",
      "13/13 [==============================] - 0s 9ms/step - loss: 0.4808 - accuracy: 0.7959 - val_loss: 0.5314 - val_accuracy: 0.8182\n",
      "Epoch 21/1000\n",
      "13/13 [==============================] - 0s 9ms/step - loss: 0.4649 - accuracy: 0.8061 - val_loss: 0.5193 - val_accuracy: 0.7879\n",
      "Epoch 22/1000\n",
      "13/13 [==============================] - 0s 9ms/step - loss: 0.4669 - accuracy: 0.7959 - val_loss: 0.5340 - val_accuracy: 0.8182\n",
      "Epoch 23/1000\n",
      "13/13 [==============================] - 0s 9ms/step - loss: 0.4768 - accuracy: 0.8138 - val_loss: 0.5095 - val_accuracy: 0.7980\n",
      "Epoch 24/1000\n",
      "13/13 [==============================] - 0s 5ms/step - loss: 0.4657 - accuracy: 0.7883 - val_loss: 0.5097 - val_accuracy: 0.7879\n",
      "Epoch 25/1000\n",
      "13/13 [==============================] - 0s 4ms/step - loss: 0.4673 - accuracy: 0.8087 - val_loss: 0.4968 - val_accuracy: 0.8081\n",
      "Epoch 26/1000\n",
      "13/13 [==============================] - 0s 5ms/step - loss: 0.4654 - accuracy: 0.8112 - val_loss: 0.5221 - val_accuracy: 0.7980\n",
      "Epoch 27/1000\n",
      "13/13 [==============================] - 0s 5ms/step - loss: 0.4732 - accuracy: 0.7959 - val_loss: 0.5009 - val_accuracy: 0.8081\n",
      "Epoch 28/1000\n",
      "13/13 [==============================] - 0s 5ms/step - loss: 0.4636 - accuracy: 0.7985 - val_loss: 0.5252 - val_accuracy: 0.8081\n",
      "Epoch 29/1000\n",
      "13/13 [==============================] - 0s 5ms/step - loss: 0.4674 - accuracy: 0.7959 - val_loss: 0.5191 - val_accuracy: 0.8081\n",
      "Epoch 30/1000\n",
      "13/13 [==============================] - 0s 4ms/step - loss: 0.4683 - accuracy: 0.8036 - val_loss: 0.5187 - val_accuracy: 0.8182\n",
      "Epoch 31/1000\n",
      "13/13 [==============================] - 0s 5ms/step - loss: 0.4666 - accuracy: 0.7959 - val_loss: 0.5140 - val_accuracy: 0.8081\n",
      "Epoch 32/1000\n",
      "13/13 [==============================] - 0s 5ms/step - loss: 0.4683 - accuracy: 0.7985 - val_loss: 0.5266 - val_accuracy: 0.7879\n",
      "Epoch 33/1000\n",
      "13/13 [==============================] - 0s 5ms/step - loss: 0.4675 - accuracy: 0.7959 - val_loss: 0.5315 - val_accuracy: 0.7879\n",
      "Epoch 34/1000\n",
      "13/13 [==============================] - 0s 5ms/step - loss: 0.4676 - accuracy: 0.8036 - val_loss: 0.5030 - val_accuracy: 0.8081\n",
      "Epoch 35/1000\n",
      "13/13 [==============================] - 0s 5ms/step - loss: 0.4610 - accuracy: 0.8112 - val_loss: 0.5345 - val_accuracy: 0.7879\n",
      "Epoch 36/1000\n",
      "13/13 [==============================] - 0s 5ms/step - loss: 0.4610 - accuracy: 0.8112 - val_loss: 0.4912 - val_accuracy: 0.8182\n",
      "Epoch 37/1000\n",
      "13/13 [==============================] - 0s 4ms/step - loss: 0.4712 - accuracy: 0.7985 - val_loss: 0.5330 - val_accuracy: 0.8283\n",
      "Epoch 38/1000\n",
      "13/13 [==============================] - 0s 4ms/step - loss: 0.4668 - accuracy: 0.8061 - val_loss: 0.4886 - val_accuracy: 0.8081\n",
      "Epoch 39/1000\n",
      "13/13 [==============================] - 0s 4ms/step - loss: 0.4644 - accuracy: 0.8112 - val_loss: 0.5152 - val_accuracy: 0.8182\n",
      "Epoch 40/1000\n",
      "13/13 [==============================] - 0s 4ms/step - loss: 0.4664 - accuracy: 0.8061 - val_loss: 0.5334 - val_accuracy: 0.8081\n",
      "Epoch 41/1000\n",
      "13/13 [==============================] - 0s 5ms/step - loss: 0.4700 - accuracy: 0.8036 - val_loss: 0.5094 - val_accuracy: 0.7980\n",
      "Epoch 42/1000\n",
      "13/13 [==============================] - 0s 5ms/step - loss: 0.4668 - accuracy: 0.8061 - val_loss: 0.5203 - val_accuracy: 0.8081\n",
      "Epoch 43/1000\n",
      "13/13 [==============================] - 0s 5ms/step - loss: 0.4625 - accuracy: 0.8112 - val_loss: 0.5129 - val_accuracy: 0.7879\n",
      "Epoch 44/1000\n",
      "13/13 [==============================] - 0s 5ms/step - loss: 0.4606 - accuracy: 0.8010 - val_loss: 0.5089 - val_accuracy: 0.8081\n",
      "Epoch 45/1000\n",
      "13/13 [==============================] - 0s 8ms/step - loss: 0.4674 - accuracy: 0.8036 - val_loss: 0.5233 - val_accuracy: 0.8182\n",
      "Epoch 46/1000\n",
      "13/13 [==============================] - 0s 8ms/step - loss: 0.4625 - accuracy: 0.8112 - val_loss: 0.5030 - val_accuracy: 0.7980\n",
      "Epoch 47/1000\n",
      "13/13 [==============================] - 0s 8ms/step - loss: 0.4541 - accuracy: 0.8010 - val_loss: 0.5343 - val_accuracy: 0.8182\n",
      "Epoch 48/1000\n",
      "13/13 [==============================] - 0s 8ms/step - loss: 0.4623 - accuracy: 0.8061 - val_loss: 0.5412 - val_accuracy: 0.8081\n",
      "Epoch 49/1000\n",
      "13/13 [==============================] - 0s 8ms/step - loss: 0.4631 - accuracy: 0.7908 - val_loss: 0.5144 - val_accuracy: 0.8081\n",
      "Epoch 50/1000\n",
      "13/13 [==============================] - 0s 8ms/step - loss: 0.4517 - accuracy: 0.8061 - val_loss: 0.5594 - val_accuracy: 0.8081\n",
      "Epoch 51/1000\n",
      "13/13 [==============================] - 0s 8ms/step - loss: 0.4658 - accuracy: 0.8112 - val_loss: 0.5030 - val_accuracy: 0.8182\n",
      "Epoch 52/1000\n",
      "13/13 [==============================] - 0s 8ms/step - loss: 0.4739 - accuracy: 0.8010 - val_loss: 0.5077 - val_accuracy: 0.8081\n",
      "Epoch 53/1000\n",
      "13/13 [==============================] - 0s 8ms/step - loss: 0.4567 - accuracy: 0.8112 - val_loss: 0.5006 - val_accuracy: 0.8182\n",
      "Epoch 54/1000\n",
      "13/13 [==============================] - 0s 9ms/step - loss: 0.4631 - accuracy: 0.8061 - val_loss: 0.5403 - val_accuracy: 0.7980\n",
      "Epoch 55/1000\n",
      "13/13 [==============================] - 0s 8ms/step - loss: 0.4628 - accuracy: 0.8061 - val_loss: 0.5147 - val_accuracy: 0.8081\n",
      "Epoch 56/1000\n",
      "13/13 [==============================] - 0s 8ms/step - loss: 0.4570 - accuracy: 0.8036 - val_loss: 0.5316 - val_accuracy: 0.7980\n",
      "Epoch 57/1000\n",
      "13/13 [==============================] - 0s 4ms/step - loss: 0.4577 - accuracy: 0.8112 - val_loss: 0.5197 - val_accuracy: 0.8081\n",
      "Epoch 58/1000\n",
      "13/13 [==============================] - 0s 4ms/step - loss: 0.4692 - accuracy: 0.8112 - val_loss: 0.5133 - val_accuracy: 0.8182\n",
      "Epoch 59/1000\n",
      "13/13 [==============================] - 0s 5ms/step - loss: 0.4601 - accuracy: 0.8010 - val_loss: 0.5015 - val_accuracy: 0.8081\n",
      "Epoch 60/1000\n",
      "13/13 [==============================] - 0s 5ms/step - loss: 0.4608 - accuracy: 0.8010 - val_loss: 0.4985 - val_accuracy: 0.8182\n",
      "Epoch 61/1000\n",
      "13/13 [==============================] - 0s 5ms/step - loss: 0.4566 - accuracy: 0.8112 - val_loss: 0.4940 - val_accuracy: 0.8182\n",
      "Epoch 62/1000\n",
      "13/13 [==============================] - 0s 5ms/step - loss: 0.4643 - accuracy: 0.8061 - val_loss: 0.5162 - val_accuracy: 0.7980\n",
      "Epoch 63/1000\n",
      "13/13 [==============================] - 0s 4ms/step - loss: 0.4596 - accuracy: 0.8087 - val_loss: 0.5033 - val_accuracy: 0.8182\n",
      "Epoch 64/1000\n",
      "13/13 [==============================] - 0s 4ms/step - loss: 0.4547 - accuracy: 0.8010 - val_loss: 0.5319 - val_accuracy: 0.8081\n",
      "Epoch 65/1000\n",
      "13/13 [==============================] - 0s 5ms/step - loss: 0.4636 - accuracy: 0.8010 - val_loss: 0.5198 - val_accuracy: 0.8081\n",
      "Epoch 66/1000\n",
      "13/13 [==============================] - 0s 8ms/step - loss: 0.4546 - accuracy: 0.8112 - val_loss: 0.5287 - val_accuracy: 0.8182\n",
      "Epoch 67/1000\n",
      "13/13 [==============================] - 0s 9ms/step - loss: 0.4630 - accuracy: 0.8061 - val_loss: 0.5400 - val_accuracy: 0.7778\n",
      "Epoch 68/1000\n",
      "13/13 [==============================] - 0s 8ms/step - loss: 0.4651 - accuracy: 0.8061 - val_loss: 0.5227 - val_accuracy: 0.7778\n",
      "Epoch 69/1000\n",
      "13/13 [==============================] - 0s 8ms/step - loss: 0.4567 - accuracy: 0.8112 - val_loss: 0.5249 - val_accuracy: 0.7879\n",
      "Epoch 70/1000\n",
      "13/13 [==============================] - 0s 8ms/step - loss: 0.4611 - accuracy: 0.8036 - val_loss: 0.5201 - val_accuracy: 0.8182\n",
      "Epoch 71/1000\n",
      "13/13 [==============================] - 0s 9ms/step - loss: 0.4654 - accuracy: 0.8087 - val_loss: 0.5169 - val_accuracy: 0.7980\n",
      "Epoch 72/1000\n",
      "13/13 [==============================] - 0s 8ms/step - loss: 0.4503 - accuracy: 0.8112 - val_loss: 0.5145 - val_accuracy: 0.8081\n",
      "Epoch 73/1000\n",
      "13/13 [==============================] - 0s 8ms/step - loss: 0.4590 - accuracy: 0.8061 - val_loss: 0.5578 - val_accuracy: 0.8081\n",
      "Epoch 74/1000\n",
      "13/13 [==============================] - 0s 8ms/step - loss: 0.4524 - accuracy: 0.8112 - val_loss: 0.5684 - val_accuracy: 0.8081\n",
      "Epoch 75/1000\n",
      "13/13 [==============================] - 0s 9ms/step - loss: 0.4661 - accuracy: 0.8112 - val_loss: 0.5185 - val_accuracy: 0.7980\n",
      "Epoch 76/1000\n",
      "13/13 [==============================] - 0s 8ms/step - loss: 0.4603 - accuracy: 0.8087 - val_loss: 0.5313 - val_accuracy: 0.8081\n",
      "Epoch 77/1000\n",
      "13/13 [==============================] - 0s 9ms/step - loss: 0.4586 - accuracy: 0.8087 - val_loss: 0.5123 - val_accuracy: 0.7980\n",
      "Epoch 78/1000\n",
      "13/13 [==============================] - 0s 10ms/step - loss: 0.4557 - accuracy: 0.8163 - val_loss: 0.5222 - val_accuracy: 0.8081\n",
      "Epoch 79/1000\n",
      "13/13 [==============================] - 0s 6ms/step - loss: 0.4579 - accuracy: 0.8036 - val_loss: 0.5077 - val_accuracy: 0.8081\n",
      "Epoch 80/1000\n",
      "13/13 [==============================] - 0s 6ms/step - loss: 0.4565 - accuracy: 0.8087 - val_loss: 0.5079 - val_accuracy: 0.7980\n",
      "Epoch 81/1000\n",
      "13/13 [==============================] - 0s 9ms/step - loss: 0.4529 - accuracy: 0.8087 - val_loss: 0.5548 - val_accuracy: 0.8081\n",
      "Epoch 82/1000\n",
      "13/13 [==============================] - 0s 14ms/step - loss: 0.4525 - accuracy: 0.8087 - val_loss: 0.5315 - val_accuracy: 0.8081\n",
      "Epoch 83/1000\n",
      "13/13 [==============================] - 0s 15ms/step - loss: 0.4531 - accuracy: 0.8087 - val_loss: 0.5187 - val_accuracy: 0.7980\n",
      "Epoch 84/1000\n",
      "13/13 [==============================] - 0s 20ms/step - loss: 0.4538 - accuracy: 0.8087 - val_loss: 0.5341 - val_accuracy: 0.7980\n",
      "Epoch 85/1000\n",
      "13/13 [==============================] - 0s 17ms/step - loss: 0.4521 - accuracy: 0.8061 - val_loss: 0.4940 - val_accuracy: 0.7980\n",
      "Epoch 86/1000\n",
      "13/13 [==============================] - 0s 16ms/step - loss: 0.4574 - accuracy: 0.8087 - val_loss: 0.5181 - val_accuracy: 0.7980\n",
      "Epoch 87/1000\n",
      "13/13 [==============================] - 0s 16ms/step - loss: 0.4604 - accuracy: 0.8061 - val_loss: 0.5108 - val_accuracy: 0.8081\n",
      "Epoch 88/1000\n",
      "13/13 [==============================] - 0s 8ms/step - loss: 0.4610 - accuracy: 0.8112 - val_loss: 0.5144 - val_accuracy: 0.8081\n"
     ]
    }
   ],
   "source": [
    "es = EarlyStopping(patience=50)\n",
    "nn1 = Sequential()\n",
    "nn1.add(Dense(200,input_dim=(20)))\n",
    "nn1.add(Dense(200))\n",
    "nn1.add(Dropout(0.1))\n",
    "nn1.add(Dense(200))\n",
    "nn1.add(Dropout(0.1))\n",
    "nn1.add(Dense(1,activation=\"sigmoid\"))\n",
    "\n",
    "nn1.compile(loss = \"binary_crossentropy\",metrics=[\"accuracy\"])\n",
    "model1 = nn1.fit(xtrain,ytrain,epochs=1000,validation_split=0.2,callbacks=es)"
   ]
  },
  {
   "cell_type": "markdown",
   "metadata": {},
   "source": [
    "# Checking accuracy"
   ]
  },
  {
   "cell_type": "code",
   "execution_count": 13,
   "metadata": {},
   "outputs": [],
   "source": [
    "from sklearn.metrics import accuracy_score\n",
    "\n",
    "pred_tr = []\n",
    "for i in nn1.predict(xtrain):\n",
    "    if(i[0] < 0.5):\n",
    "        pred_tr.append(0)\n",
    "    else:\n",
    "        pred_tr.append(1)\n",
    "        \n",
    "pred_ts = []\n",
    "for i in nn1.predict(xtest):\n",
    "    if(i[0] < 0.5):\n",
    "        pred_ts.append(0)\n",
    "    else:\n",
    "        pred_ts.append(1)\n",
    "\n",
    "acc_tr = accuracy_score(ytrain,pred_tr)\n",
    "acc_ts = accuracy_score(ytest,pred_ts)"
   ]
  },
  {
   "cell_type": "code",
   "execution_count": 21,
   "metadata": {},
   "outputs": [
    {
     "data": {
      "text/plain": [
       "0.814663951120163"
      ]
     },
     "execution_count": 21,
     "metadata": {},
     "output_type": "execute_result"
    }
   ],
   "source": [
    "acc_tr"
   ]
  },
  {
   "cell_type": "code",
   "execution_count": 22,
   "metadata": {},
   "outputs": [
    {
     "data": {
      "text/plain": [
       "0.7967479674796748"
      ]
     },
     "execution_count": 22,
     "metadata": {},
     "output_type": "execute_result"
    }
   ],
   "source": [
    "acc_ts"
   ]
  },
  {
   "cell_type": "markdown",
   "metadata": {},
   "source": [
    "# Final Prediction"
   ]
  },
  {
   "cell_type": "code",
   "execution_count": 19,
   "metadata": {},
   "outputs": [],
   "source": [
    "final = pd.DataFrame(le.inverse_transform(ytest),columns=[\"expected\"])\n",
    "final[\"predicted\"] = le.inverse_transform(pred_ts)"
   ]
  },
  {
   "cell_type": "code",
   "execution_count": 20,
   "metadata": {},
   "outputs": [
    {
     "data": {
      "text/html": [
       "<div>\n",
       "<style scoped>\n",
       "    .dataframe tbody tr th:only-of-type {\n",
       "        vertical-align: middle;\n",
       "    }\n",
       "\n",
       "    .dataframe tbody tr th {\n",
       "        vertical-align: top;\n",
       "    }\n",
       "\n",
       "    .dataframe thead th {\n",
       "        text-align: right;\n",
       "    }\n",
       "</style>\n",
       "<table border=\"1\" class=\"dataframe\">\n",
       "  <thead>\n",
       "    <tr style=\"text-align: right;\">\n",
       "      <th></th>\n",
       "      <th>expected</th>\n",
       "      <th>predicted</th>\n",
       "    </tr>\n",
       "  </thead>\n",
       "  <tbody>\n",
       "    <tr>\n",
       "      <th>0</th>\n",
       "      <td>N</td>\n",
       "      <td>N</td>\n",
       "    </tr>\n",
       "    <tr>\n",
       "      <th>1</th>\n",
       "      <td>Y</td>\n",
       "      <td>Y</td>\n",
       "    </tr>\n",
       "    <tr>\n",
       "      <th>2</th>\n",
       "      <td>Y</td>\n",
       "      <td>Y</td>\n",
       "    </tr>\n",
       "    <tr>\n",
       "      <th>3</th>\n",
       "      <td>Y</td>\n",
       "      <td>Y</td>\n",
       "    </tr>\n",
       "    <tr>\n",
       "      <th>4</th>\n",
       "      <td>N</td>\n",
       "      <td>N</td>\n",
       "    </tr>\n",
       "    <tr>\n",
       "      <th>...</th>\n",
       "      <td>...</td>\n",
       "      <td>...</td>\n",
       "    </tr>\n",
       "    <tr>\n",
       "      <th>118</th>\n",
       "      <td>Y</td>\n",
       "      <td>Y</td>\n",
       "    </tr>\n",
       "    <tr>\n",
       "      <th>119</th>\n",
       "      <td>Y</td>\n",
       "      <td>Y</td>\n",
       "    </tr>\n",
       "    <tr>\n",
       "      <th>120</th>\n",
       "      <td>Y</td>\n",
       "      <td>N</td>\n",
       "    </tr>\n",
       "    <tr>\n",
       "      <th>121</th>\n",
       "      <td>Y</td>\n",
       "      <td>Y</td>\n",
       "    </tr>\n",
       "    <tr>\n",
       "      <th>122</th>\n",
       "      <td>N</td>\n",
       "      <td>Y</td>\n",
       "    </tr>\n",
       "  </tbody>\n",
       "</table>\n",
       "<p>123 rows × 2 columns</p>\n",
       "</div>"
      ],
      "text/plain": [
       "    expected predicted\n",
       "0          N         N\n",
       "1          Y         Y\n",
       "2          Y         Y\n",
       "3          Y         Y\n",
       "4          N         N\n",
       "..       ...       ...\n",
       "118        Y         Y\n",
       "119        Y         Y\n",
       "120        Y         N\n",
       "121        Y         Y\n",
       "122        N         Y\n",
       "\n",
       "[123 rows x 2 columns]"
      ]
     },
     "execution_count": 20,
     "metadata": {},
     "output_type": "execute_result"
    }
   ],
   "source": [
    "final"
   ]
  },
  {
   "cell_type": "code",
   "execution_count": null,
   "metadata": {},
   "outputs": [],
   "source": []
  }
 ],
 "metadata": {
  "kernelspec": {
   "display_name": "Python 3",
   "language": "python",
   "name": "python3"
  },
  "language_info": {
   "codemirror_mode": {
    "name": "ipython",
    "version": 3
   },
   "file_extension": ".py",
   "mimetype": "text/x-python",
   "name": "python",
   "nbconvert_exporter": "python",
   "pygments_lexer": "ipython3",
   "version": "3.8.3"
  }
 },
 "nbformat": 4,
 "nbformat_minor": 4
}
